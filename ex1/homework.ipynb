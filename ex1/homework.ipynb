{
 "cells": [
  {
   "cell_type": "markdown",
   "metadata": {},
   "source": [
    "# 单变量线性回归"
   ]
  },
  {
   "cell_type": "code",
   "execution_count": 42,
   "metadata": {},
   "outputs": [],
   "source": [
    "%matplotlib inline\n",
    "import numpy as np\n",
    "import pandas as pd\n",
    "import matplotlib.pyplot as plt"
   ]
  },
  {
   "cell_type": "code",
   "execution_count": 43,
   "metadata": {},
   "outputs": [
    {
     "data": {
      "text/html": [
       "<div>\n",
       "<style scoped>\n",
       "    .dataframe tbody tr th:only-of-type {\n",
       "        vertical-align: middle;\n",
       "    }\n",
       "\n",
       "    .dataframe tbody tr th {\n",
       "        vertical-align: top;\n",
       "    }\n",
       "\n",
       "    .dataframe thead th {\n",
       "        text-align: right;\n",
       "    }\n",
       "</style>\n",
       "<table border=\"1\" class=\"dataframe\">\n",
       "  <thead>\n",
       "    <tr style=\"text-align: right;\">\n",
       "      <th></th>\n",
       "      <th>Population</th>\n",
       "      <th>Profit</th>\n",
       "    </tr>\n",
       "  </thead>\n",
       "  <tbody>\n",
       "    <tr>\n",
       "      <th>0</th>\n",
       "      <td>6.1101</td>\n",
       "      <td>17.5920</td>\n",
       "    </tr>\n",
       "    <tr>\n",
       "      <th>1</th>\n",
       "      <td>5.5277</td>\n",
       "      <td>9.1302</td>\n",
       "    </tr>\n",
       "    <tr>\n",
       "      <th>2</th>\n",
       "      <td>8.5186</td>\n",
       "      <td>13.6620</td>\n",
       "    </tr>\n",
       "    <tr>\n",
       "      <th>3</th>\n",
       "      <td>7.0032</td>\n",
       "      <td>11.8540</td>\n",
       "    </tr>\n",
       "    <tr>\n",
       "      <th>4</th>\n",
       "      <td>5.8598</td>\n",
       "      <td>6.8233</td>\n",
       "    </tr>\n",
       "  </tbody>\n",
       "</table>\n",
       "</div>"
      ],
      "text/plain": [
       "   Population   Profit\n",
       "0      6.1101  17.5920\n",
       "1      5.5277   9.1302\n",
       "2      8.5186  13.6620\n",
       "3      7.0032  11.8540\n",
       "4      5.8598   6.8233"
      ]
     },
     "execution_count": 43,
     "metadata": {},
     "output_type": "execute_result"
    }
   ],
   "source": [
    "# path = '‪C:/Users/huangm/Desktop/machine-learning-ex1/machine-learning-ex1/ex1/ex1data1.txt'\n",
    "path = './ex1/ex1data1.txt'\n",
    "# names添加列名，header用指定的行来作为标题，若原无标题且指定标题则设为None\n",
    "data = pd.read_csv(path, header=None, names=['Population','Profit'])\n",
    "data.head()"
   ]
  },
  {
   "cell_type": "code",
   "execution_count": 44,
   "metadata": {},
   "outputs": [
    {
     "data": {
      "text/html": [
       "<div>\n",
       "<style scoped>\n",
       "    .dataframe tbody tr th:only-of-type {\n",
       "        vertical-align: middle;\n",
       "    }\n",
       "\n",
       "    .dataframe tbody tr th {\n",
       "        vertical-align: top;\n",
       "    }\n",
       "\n",
       "    .dataframe thead th {\n",
       "        text-align: right;\n",
       "    }\n",
       "</style>\n",
       "<table border=\"1\" class=\"dataframe\">\n",
       "  <thead>\n",
       "    <tr style=\"text-align: right;\">\n",
       "      <th></th>\n",
       "      <th>Population</th>\n",
       "      <th>Profit</th>\n",
       "    </tr>\n",
       "  </thead>\n",
       "  <tbody>\n",
       "    <tr>\n",
       "      <th>count</th>\n",
       "      <td>97.000000</td>\n",
       "      <td>97.000000</td>\n",
       "    </tr>\n",
       "    <tr>\n",
       "      <th>mean</th>\n",
       "      <td>8.159800</td>\n",
       "      <td>5.839135</td>\n",
       "    </tr>\n",
       "    <tr>\n",
       "      <th>std</th>\n",
       "      <td>3.869884</td>\n",
       "      <td>5.510262</td>\n",
       "    </tr>\n",
       "    <tr>\n",
       "      <th>min</th>\n",
       "      <td>5.026900</td>\n",
       "      <td>-2.680700</td>\n",
       "    </tr>\n",
       "    <tr>\n",
       "      <th>25%</th>\n",
       "      <td>5.707700</td>\n",
       "      <td>1.986900</td>\n",
       "    </tr>\n",
       "    <tr>\n",
       "      <th>50%</th>\n",
       "      <td>6.589400</td>\n",
       "      <td>4.562300</td>\n",
       "    </tr>\n",
       "    <tr>\n",
       "      <th>75%</th>\n",
       "      <td>8.578100</td>\n",
       "      <td>7.046700</td>\n",
       "    </tr>\n",
       "    <tr>\n",
       "      <th>max</th>\n",
       "      <td>22.203000</td>\n",
       "      <td>24.147000</td>\n",
       "    </tr>\n",
       "  </tbody>\n",
       "</table>\n",
       "</div>"
      ],
      "text/plain": [
       "       Population     Profit\n",
       "count   97.000000  97.000000\n",
       "mean     8.159800   5.839135\n",
       "std      3.869884   5.510262\n",
       "min      5.026900  -2.680700\n",
       "25%      5.707700   1.986900\n",
       "50%      6.589400   4.562300\n",
       "75%      8.578100   7.046700\n",
       "max     22.203000  24.147000"
      ]
     },
     "execution_count": 44,
     "metadata": {},
     "output_type": "execute_result"
    }
   ],
   "source": [
    "data.describe()"
   ]
  },
  {
   "cell_type": "code",
   "execution_count": 45,
   "metadata": {},
   "outputs": [
    {
     "data": {
      "image/png": "[encoded data removed]",
      "text/plain": [
       "<Figure size 576x360 with 1 Axes>"
      ]
     },
     "metadata": {
      "needs_background": "light"
     },
     "output_type": "display_data"
    }
   ],
   "source": [
    "data.plot(kind='scatter', x = 'Population', y = 'Profit', figsize=(8,5))\n",
    "plt.show()"
   ]
  },
  {
   "cell_type": "markdown",
   "metadata": {},
   "source": [
    "创建一个以参数θ为特征函数的代价函数\n",
    "$$ J(\\theta) = \\sum_{i=1}^m \\frac{1}{2m}(h_\\theta(x^{(i)}) - y^{(i)}) ^2  $$"
   ]
  },
  {
   "cell_type": "markdown",
   "metadata": {},
   "source": [
    "$$ h_\\theta(x) = \\theta^TX = \\theta_0x_0 + \\theta_1x_1 + \\theta_2x_2 + ... + \\theta_nx_n $$"
   ]
  },
  {
   "cell_type": "markdown",
   "metadata": {},
   "source": [
    "计算代价函数\n",
    "$$ J(\\theta) $$\n"
   ]
  },
  {
   "cell_type": "code",
   "execution_count": 46,
   "metadata": {},
   "outputs": [],
   "source": [
    "def compute_cost(X, y, theta):\n",
    "    inner = np.power(((X * theta.T) - y),2)\n",
    "    return np.sum(inner) / (2 * len(X))"
   ]
  },
  {
   "cell_type": "code",
   "execution_count": 47,
   "metadata": {},
   "outputs": [],
   "source": [
    "#在训练集中添加一列(x_0)，以便我们可以使用向量化的解决方案来计算代价和梯度\n",
    "data.insert(0, 'Ones', 1)"
   ]
  },
  {
   "cell_type": "code",
   "execution_count": 48,
   "metadata": {},
   "outputs": [
    {
     "name": "stdout",
     "output_type": "stream",
     "text": [
      "(97, 3)\n",
      "3\n"
     ]
    },
    {
     "data": {
      "text/html": [
       "<div>\n",
       "<style scoped>\n",
       "    .dataframe tbody tr th:only-of-type {\n",
       "        vertical-align: middle;\n",
       "    }\n",
       "\n",
       "    .dataframe tbody tr th {\n",
       "        vertical-align: top;\n",
       "    }\n",
       "\n",
       "    .dataframe thead th {\n",
       "        text-align: right;\n",
       "    }\n",
       "</style>\n",
       "<table border=\"1\" class=\"dataframe\">\n",
       "  <thead>\n",
       "    <tr style=\"text-align: right;\">\n",
       "      <th></th>\n",
       "      <th>Ones</th>\n",
       "      <th>Population</th>\n",
       "    </tr>\n",
       "  </thead>\n",
       "  <tbody>\n",
       "    <tr>\n",
       "      <th>0</th>\n",
       "      <td>1</td>\n",
       "      <td>6.1101</td>\n",
       "    </tr>\n",
       "    <tr>\n",
       "      <th>1</th>\n",
       "      <td>1</td>\n",
       "      <td>5.5277</td>\n",
       "    </tr>\n",
       "    <tr>\n",
       "      <th>2</th>\n",
       "      <td>1</td>\n",
       "      <td>8.5186</td>\n",
       "    </tr>\n",
       "    <tr>\n",
       "      <th>3</th>\n",
       "      <td>1</td>\n",
       "      <td>7.0032</td>\n",
       "    </tr>\n",
       "    <tr>\n",
       "      <th>4</th>\n",
       "      <td>1</td>\n",
       "      <td>5.8598</td>\n",
       "    </tr>\n",
       "  </tbody>\n",
       "</table>\n",
       "</div>"
      ],
      "text/plain": [
       "   Ones  Population\n",
       "0     1      6.1101\n",
       "1     1      5.5277\n",
       "2     1      8.5186\n",
       "3     1      7.0032\n",
       "4     1      5.8598"
      ]
     },
     "execution_count": 48,
     "metadata": {},
     "output_type": "execute_result"
    }
   ],
   "source": [
    "# 取最后一列为 y，其余为 X\n",
    "cols  =  data.shape[1] #列数\n",
    "print(data.shape)\n",
    "print(cols)\n",
    "X = data.iloc[:, 0:cols - 1]\n",
    "y = data.iloc[:, cols - 1:cols]\n",
    "\n",
    "# 查看训练集X和label y\n",
    "X.head()"
   ]
  },
  {
   "cell_type": "code",
   "execution_count": 49,
   "metadata": {},
   "outputs": [
    {
     "data": {
      "text/html": [
       "<div>\n",
       "<style scoped>\n",
       "    .dataframe tbody tr th:only-of-type {\n",
       "        vertical-align: middle;\n",
       "    }\n",
       "\n",
       "    .dataframe tbody tr th {\n",
       "        vertical-align: top;\n",
       "    }\n",
       "\n",
       "    .dataframe thead th {\n",
       "        text-align: right;\n",
       "    }\n",
       "</style>\n",
       "<table border=\"1\" class=\"dataframe\">\n",
       "  <thead>\n",
       "    <tr style=\"text-align: right;\">\n",
       "      <th></th>\n",
       "      <th>Profit</th>\n",
       "    </tr>\n",
       "  </thead>\n",
       "  <tbody>\n",
       "    <tr>\n",
       "      <th>0</th>\n",
       "      <td>17.5920</td>\n",
       "    </tr>\n",
       "    <tr>\n",
       "      <th>1</th>\n",
       "      <td>9.1302</td>\n",
       "    </tr>\n",
       "    <tr>\n",
       "      <th>2</th>\n",
       "      <td>13.6620</td>\n",
       "    </tr>\n",
       "    <tr>\n",
       "      <th>3</th>\n",
       "      <td>11.8540</td>\n",
       "    </tr>\n",
       "    <tr>\n",
       "      <th>4</th>\n",
       "      <td>6.8233</td>\n",
       "    </tr>\n",
       "  </tbody>\n",
       "</table>\n",
       "</div>"
      ],
      "text/plain": [
       "    Profit\n",
       "0  17.5920\n",
       "1   9.1302\n",
       "2  13.6620\n",
       "3  11.8540\n",
       "4   6.8233"
      ]
     },
     "execution_count": 49,
     "metadata": {},
     "output_type": "execute_result"
    }
   ],
   "source": [
    "y.head()"
   ]
  },
  {
   "cell_type": "code",
   "execution_count": 50,
   "metadata": {},
   "outputs": [
    {
     "data": {
      "text/plain": [
       "matrix([[1],\n",
       "        [2]])"
      ]
     },
     "execution_count": 50,
     "metadata": {},
     "output_type": "execute_result"
    }
   ],
   "source": [
    "# 代价函数是numpy矩阵，所以我们需要转换X和Y，然后才能使用它们。 我们还需要初始化theta\n",
    "X = np.matrix(X.values)\n",
    "y = np.matrix(y.values)\n",
    "theta = np.matrix([1,2])\n",
    "theta.T"
   ]
  },
  {
   "cell_type": "code",
   "execution_count": 51,
   "metadata": {},
   "outputs": [
    {
     "data": {
      "text/plain": [
       "((97, 2), (97, 1), (1, 2))"
      ]
     },
     "execution_count": 51,
     "metadata": {},
     "output_type": "execute_result"
    }
   ],
   "source": [
    "# 查看一下维度\n",
    "X.shape, y.shape, theta.shape"
   ]
  },
  {
   "cell_type": "code",
   "execution_count": 52,
   "metadata": {},
   "outputs": [
    {
     "data": {
      "text/plain": [
       "75.20338497891959"
      ]
     },
     "execution_count": 52,
     "metadata": {},
     "output_type": "execute_result"
    }
   ],
   "source": [
    "#计算初始代价函数的值 (theta初始值为0).\n",
    "compute_cost(X, y, theta)"
   ]
  },
  {
   "cell_type": "markdown",
   "metadata": {},
   "source": [
    "matrix的优势就是相对简单的运算符号，比如两个矩阵相乘，就是用符号*，但是array相乘不能这么用，得用方法.dot()\n",
    "array的优势就是不仅仅表示二维，还能表示3、4、5…维，而且在大部分Python程序里，array也是更常用的。\n",
    "\n",
    "两者区别：\n",
    "\n",
    "对应元素相乘：matrix可以用np.multiply(X2,X1)，array直接X1*X2\n",
    "点乘：matrix直接X1*X2，array可以 X1@X2 或 X1.dot(X2) 或 np.dot(X1, X2)"
   ]
  },
  {
   "cell_type": "markdown",
   "metadata": {},
   "source": [
    "# batch gradient decent（批量梯度下降）"
   ]
  },
  {
   "cell_type": "markdown",
   "metadata": {},
   "source": [
    "代价函数\n",
    "$$ J(\\theta) = \\frac{1}{2m} \\sum_{i=1}^m (h_\\theta(x^{(i)}) - y^{(i)}) ^2  $$"
   ]
  },
  {
   "cell_type": "markdown",
   "metadata": {},
   "source": [
    "假设函数\n",
    "$$ h_\\theta(x) = \\theta^TX = \\theta_0x_0 + \\theta_1x_1 + \\theta_2x_2 + ... + \\theta_nx_n $$"
   ]
  },
  {
   "cell_type": "markdown",
   "metadata": {},
   "source": [
    "求偏导\n",
    "$$ \\frac{\\partial }{\\partial \\theta_0}J(\\theta) = \\frac{1}{m} \\sum_{i=1}^m (h_\\theta(x^{(i)}) - y^{(i)}) $$\n",
    "$$ \\frac{\\partial }{\\partial \\theta_1}J(\\theta) = \\frac{1}{m} \\sum_{i=1}^m (h_\\theta(x^{(i)}) - y^{(i)})x_1{(i)} $$"
   ]
  },
  {
   "cell_type": "markdown",
   "metadata": {},
   "source": [
    "梯度下降\n",
    "$$ \\theta_0 = \\theta_0 - \\alpha \\frac{\\partial }{\\partial \\theta_0}J(\\theta) $$\n",
    "\n",
    "$$ \\theta_0 = \\theta_0 - \\alpha  \\frac{1}{m} \\sum_{i=1}^m (h_\\theta(x^{(i)}) - y^{(i)})  $$\n",
    "\n",
    "$$ \\theta_1 = \\theta_1 - \\alpha \\frac{\\partial }{\\partial \\theta_1}J(\\theta) $$\n",
    "\n",
    "$$ \\theta_1 = \\theta_1 - \\alpha \\frac{1}{m} \\sum_{i=1}^m (h_\\theta(x^{(i)}) - y^{(i)})x_1{(i)} $$"
   ]
  },
  {
   "cell_type": "code",
   "execution_count": 53,
   "metadata": {},
   "outputs": [],
   "source": [
    "#使用 vectorization同时更新所有的 θ，可以大大提高效率"
   ]
  },
  {
   "cell_type": "code",
   "execution_count": 54,
   "metadata": {},
   "outputs": [],
   "source": [
    "# np.flatten 返回一个折叠成一维的数组。但是该函数只能适用于numpy对象"
   ]
  },
  {
   "cell_type": "code",
   "execution_count": 55,
   "metadata": {},
   "outputs": [],
   "source": [
    "def gradient_descent(X, y, theta, alpha, epoch):\n",
    "    \"\"\"return theta cost\"\"\"\n",
    "\n",
    "    temp = np.zeros(theta.shape) # 临时矩阵[1,2]\n",
    "    cost = np.zeros(epoch) # 每一轮epoch的cost\n",
    "    m = X.shape[0] # 样本数量\n",
    "\n",
    "    for i in range(epoch):\n",
    "        # 利用向量化一步求解\n",
    "        temp = theta - (alpha / m) * (X * theta.T - y).T * X\n",
    "\n",
    "        theta = temp\n",
    "        cost[i] = compute_cost(X, y, theta)\n",
    "\n",
    "    return theta, cost"
   ]
  },
  {
   "cell_type": "code",
   "execution_count": 56,
   "metadata": {},
   "outputs": [],
   "source": [
    "# 学习速率α和要执行的迭代次数\n",
    "alpha = 0.01\n",
    "epoch = 1000"
   ]
  },
  {
   "cell_type": "code",
   "execution_count": 57,
   "metadata": {},
   "outputs": [
    {
     "data": {
      "text/plain": [
       "(matrix([[-3.11118613,  1.11421259]]),\n",
       " array([8.70755848, 6.59911918, 6.52533071, 6.51586249, 6.50845247,\n",
       "        6.50113311, 6.49384213, 6.48657747, 6.47933899, 6.47212657,\n",
       "        6.46494014, 6.45777959, 6.45064483, 6.44353578, 6.43645233,\n",
       "        6.42939439, 6.42236187, 6.41535469, 6.40837274, 6.40141595,\n",
       "        6.39448421, 6.38757744, 6.38069555, 6.37383844, 6.36700604,\n",
       "        6.36019824, 6.35341497, 6.34665612, 6.33992163, 6.33321139,\n",
       "        6.32652532, 6.31986333, 6.31322534, 6.30661126, 6.300021  ,\n",
       "        6.29345448, 6.28691162, 6.28039232, 6.2738965 , 6.26742408,\n",
       "        6.26097497, 6.25454909, 6.24814636, 6.24176669, 6.23541   ,\n",
       "        6.2290762 , 6.22276522, 6.21647698, 6.21021138, 6.20396835,\n",
       "        6.1977478 , 6.19154967, 6.18537385, 6.17922029, 6.17308888,\n",
       "        6.16697957, 6.16089225, 6.15482687, 6.14878333, 6.14276156,\n",
       "        6.13676148, 6.13078301, 6.12482608, 6.1188906 , 6.1129765 ,\n",
       "        6.10708371, 6.10121213, 6.09536171, 6.08953236, 6.08372401,\n",
       "        6.07793658, 6.07217   , 6.06642419, 6.06069907, 6.05499457,\n",
       "        6.04931062, 6.04364715, 6.03800407, 6.03238132, 6.02677883,\n",
       "        6.02119651, 6.0156343 , 6.01009212, 6.00456991, 5.99906759,\n",
       "        5.99358509, 5.98812233, 5.98267925, 5.97725578, 5.97185184,\n",
       "        5.96646737, 5.96110229, 5.95575654, 5.95043004, 5.94512273,\n",
       "        5.93983453, 5.93456538, 5.92931521, 5.92408395, 5.91887154,\n",
       "        5.91367789, 5.90850296, 5.90334667, 5.89820895, 5.89308973,\n",
       "        5.88798895, 5.88290655, 5.87784245, 5.8727966 , 5.86776891,\n",
       "        5.86275934, 5.85776781, 5.85279426, 5.84783863, 5.84290084,\n",
       "        5.83798084, 5.83307857, 5.82819395, 5.82332692, 5.81847743,\n",
       "        5.8136454 , 5.80883078, 5.8040335 , 5.79925349, 5.79449071,\n",
       "        5.78974508, 5.78501655, 5.78030504, 5.77561051, 5.77093289,\n",
       "        5.76627211, 5.76162813, 5.75700087, 5.75239027, 5.74779629,\n",
       "        5.74321885, 5.7386579 , 5.73411338, 5.72958523, 5.72507338,\n",
       "        5.72057779, 5.71609839, 5.71163513, 5.70718794, 5.70275677,\n",
       "        5.69834156, 5.69394226, 5.6895588 , 5.68519113, 5.68083919,\n",
       "        5.67650293, 5.67218229, 5.66787721, 5.66358763, 5.65931351,\n",
       "        5.65505478, 5.65081139, 5.64658329, 5.64237041, 5.63817271,\n",
       "        5.63399013, 5.62982262, 5.62567011, 5.62153257, 5.61740993,\n",
       "        5.61330213, 5.60920913, 5.60513088, 5.60106731, 5.59701838,\n",
       "        5.59298404, 5.58896423, 5.58495889, 5.58096799, 5.57699145,\n",
       "        5.57302924, 5.56908131, 5.56514759, 5.56122804, 5.55732261,\n",
       "        5.55343125, 5.5495539 , 5.54569052, 5.54184106, 5.53800546,\n",
       "        5.53418368, 5.53037566, 5.52658136, 5.52280072, 5.5190337 ,\n",
       "        5.51528026, 5.51154033, 5.50781387, 5.50410083, 5.50040117,\n",
       "        5.49671484, 5.49304178, 5.48938195, 5.48573531, 5.4821018 ,\n",
       "        5.47848138, 5.474874  , 5.47127961, 5.46769817, 5.46412963,\n",
       "        5.46057394, 5.45703106, 5.45350094, 5.44998354, 5.44647881,\n",
       "        5.4429867 , 5.43950717, 5.43604017, 5.43258566, 5.42914359,\n",
       "        5.42571392, 5.4222966 , 5.4188916 , 5.41549885, 5.41211833,\n",
       "        5.40874999, 5.40539377, 5.40204965, 5.39871757, 5.3953975 ,\n",
       "        5.39208938, 5.38879318, 5.38550885, 5.38223635, 5.37897563,\n",
       "        5.37572667, 5.3724894 , 5.3692638 , 5.36604981, 5.3628474 ,\n",
       "        5.35965653, 5.35647715, 5.35330922, 5.3501527 , 5.34700755,\n",
       "        5.34387373, 5.3407512 , 5.33763991, 5.33453984, 5.33145092,\n",
       "        5.32837314, 5.32530644, 5.32225078, 5.31920614, 5.31617245,\n",
       "        5.3131497 , 5.31013783, 5.30713682, 5.30414661, 5.30116717,\n",
       "        5.29819847, 5.29524045, 5.2922931 , 5.28935635, 5.28643019,\n",
       "        5.28351457, 5.28060944, 5.27771479, 5.27483055, 5.27195671,\n",
       "        5.26909322, 5.26624004, 5.26339714, 5.26056448, 5.25774203,\n",
       "        5.25492974, 5.25212757, 5.24933551, 5.2465535 , 5.2437815 ,\n",
       "        5.2410195 , 5.23826744, 5.2355253 , 5.23279303, 5.2300706 ,\n",
       "        5.22735798, 5.22465513, 5.22196202, 5.21927861, 5.21660486,\n",
       "        5.21394074, 5.21128622, 5.20864126, 5.20600583, 5.20337989,\n",
       "        5.20076341, 5.19815635, 5.19555868, 5.19297037, 5.19039139,\n",
       "        5.18782169, 5.18526125, 5.18271003, 5.180168  , 5.17763512,\n",
       "        5.17511137, 5.17259671, 5.17009111, 5.16759453, 5.16510695,\n",
       "        5.16262832, 5.16015863, 5.15769783, 5.15524589, 5.15280278,\n",
       "        5.15036848, 5.14794294, 5.14552614, 5.14311804, 5.14071862,\n",
       "        5.13832784, 5.13594568, 5.13357209, 5.13120705, 5.12885053,\n",
       "        5.1265025 , 5.12416293, 5.12183178, 5.11950903, 5.11719465,\n",
       "        5.1148886 , 5.11259086, 5.11030139, 5.10802017, 5.10574717,\n",
       "        5.10348236, 5.1012257 , 5.09897717, 5.09673675, 5.09450439,\n",
       "        5.09228007, 5.09006376, 5.08785544, 5.08565507, 5.08346263,\n",
       "        5.08127808, 5.0791014 , 5.07693256, 5.07477154, 5.0726183 ,\n",
       "        5.07047281, 5.06833505, 5.066205  , 5.06408261, 5.06196787,\n",
       "        5.05986075, 5.05776121, 5.05566924, 5.0535848 , 5.05150788,\n",
       "        5.04943843, 5.04737643, 5.04532187, 5.0432747 , 5.04123491,\n",
       "        5.03920247, 5.03717734, 5.03515951, 5.03314895, 5.03114563,\n",
       "        5.02914953, 5.02716061, 5.02517886, 5.02320425, 5.02123675,\n",
       "        5.01927634, 5.01732299, 5.01537667, 5.01343737, 5.01150505,\n",
       "        5.00957969, 5.00766127, 5.00574975, 5.00384512, 5.00194735,\n",
       "        5.00005642, 4.9981723 , 4.99629496, 4.99442439, 4.99256055,\n",
       "        4.99070343, 4.988853  , 4.98700923, 4.9851721 , 4.98334159,\n",
       "        4.98151768, 4.97970033, 4.97788953, 4.97608525, 4.97428747,\n",
       "        4.97249617, 4.97071132, 4.96893289, 4.96716088, 4.96539524,\n",
       "        4.96363597, 4.96188303, 4.96013641, 4.95839607, 4.95666201,\n",
       "        4.95493419, 4.9532126 , 4.9514972 , 4.94978799, 4.94808493,\n",
       "        4.94638801, 4.9446972 , 4.94301247, 4.94133382, 4.93966121,\n",
       "        4.93799463, 4.93633405, 4.93467945, 4.93303082, 4.93138812,\n",
       "        4.92975133, 4.92812045, 4.92649543, 4.92487627, 4.92326295,\n",
       "        4.92165543, 4.9200537 , 4.91845775, 4.91686754, 4.91528306,\n",
       "        4.91370428, 4.9121312 , 4.91056378, 4.909002  , 4.90744585,\n",
       "        4.90589531, 4.90435035, 4.90281096, 4.90127711, 4.89974878,\n",
       "        4.89822596, 4.89670863, 4.89519676, 4.89369033, 4.89218934,\n",
       "        4.89069374, 4.88920354, 4.8877187 , 4.88623922, 4.88476506,\n",
       "        4.88329621, 4.88183265, 4.88037436, 4.87892133, 4.87747353,\n",
       "        4.87603094, 4.87459355, 4.87316134, 4.87173429, 4.87031237,\n",
       "        4.86889558, 4.86748389, 4.86607729, 4.86467575, 4.86327926,\n",
       "        4.86188781, 4.86050136, 4.85911991, 4.85774343, 4.85637191,\n",
       "        4.85500533, 4.85364367, 4.85228692, 4.85093506, 4.84958806,\n",
       "        4.84824592, 4.84690861, 4.84557612, 4.84424842, 4.84292551,\n",
       "        4.84160737, 4.84029397, 4.8389853 , 4.83768135, 4.83638209,\n",
       "        4.83508752, 4.8337976 , 4.83251233, 4.8312317 , 4.82995567,\n",
       "        4.82868424, 4.82741739, 4.82615511, 4.82489737, 4.82364416,\n",
       "        4.82239546, 4.82115126, 4.81991155, 4.8186763 , 4.8174455 ,\n",
       "        4.81621913, 4.81499718, 4.81377963, 4.81256646, 4.81135767,\n",
       "        4.81015323, 4.80895313, 4.80775735, 4.80656588, 4.8053787 ,\n",
       "        4.80419579, 4.80301715, 4.80184275, 4.80067258, 4.79950663,\n",
       "        4.79834488, 4.79718731, 4.79603391, 4.79488466, 4.79373956,\n",
       "        4.79259858, 4.79146171, 4.79032893, 4.78920023, 4.7880756 ,\n",
       "        4.78695502, 4.78583848, 4.78472596, 4.78361745, 4.78251292,\n",
       "        4.78141238, 4.7803158 , 4.77922317, 4.77813448, 4.77704971,\n",
       "        4.77596884, 4.77489187, 4.77381878, 4.77274955, 4.77168418,\n",
       "        4.77062264, 4.76956492, 4.76851102, 4.76746091, 4.76641458,\n",
       "        4.76537202, 4.76433322, 4.76329816, 4.76226683, 4.76123921,\n",
       "        4.76021529, 4.75919507, 4.75817851, 4.75716562, 4.75615638,\n",
       "        4.75515077, 4.75414878, 4.75315041, 4.75215562, 4.75116443,\n",
       "        4.7501768 , 4.74919273, 4.7482122 , 4.74723521, 4.74626173,\n",
       "        4.74529177, 4.74432529, 4.7433623 , 4.74240277, 4.74144671,\n",
       "        4.74049408, 4.73954489, 4.73859911, 4.73765674, 4.73671777,\n",
       "        4.73578218, 4.73484996, 4.73392109, 4.73299558, 4.73207339,\n",
       "        4.73115453, 4.73023898, 4.72932672, 4.72841775, 4.72751206,\n",
       "        4.72660962, 4.72571044, 4.7248145 , 4.72392178, 4.72303228,\n",
       "        4.72214598, 4.72126288, 4.72038295, 4.7195062 , 4.7186326 ,\n",
       "        4.71776215, 4.71689484, 4.71603065, 4.71516957, 4.71431159,\n",
       "        4.71345671, 4.7126049 , 4.71175616, 4.71091048, 4.71006785,\n",
       "        4.70922825, 4.70839167, 4.70755811, 4.70672755, 4.70589998,\n",
       "        4.70507539, 4.70425377, 4.70343512, 4.70261941, 4.70180664,\n",
       "        4.70099679, 4.70018986, 4.69938584, 4.69858472, 4.69778648,\n",
       "        4.69699112, 4.69619862, 4.69540898, 4.69462218, 4.69383821,\n",
       "        4.69305707, 4.69227874, 4.69150322, 4.69073049, 4.68996054,\n",
       "        4.68919336, 4.68842895, 4.68766729, 4.68690838, 4.6861522 ,\n",
       "        4.68539874, 4.684648  , 4.68389996, 4.68315461, 4.68241195,\n",
       "        4.68167197, 4.68093465, 4.68019998, 4.67946797, 4.67873859,\n",
       "        4.67801183, 4.6772877 , 4.67656617, 4.67584724, 4.6751309 ,\n",
       "        4.67441714, 4.67370595, 4.67299733, 4.67229125, 4.67158772,\n",
       "        4.67088672, 4.67018825, 4.6694923 , 4.66879885, 4.66810789,\n",
       "        4.66741943, 4.66673345, 4.66604994, 4.66536889, 4.66469029,\n",
       "        4.66401414, 4.66334042, 4.66266913, 4.66200026, 4.66133379,\n",
       "        4.66066973, 4.66000806, 4.65934877, 4.65869186, 4.65803731,\n",
       "        4.65738512, 4.65673528, 4.65608778, 4.65544262, 4.65479977,\n",
       "        4.65415925, 4.65352103, 4.65288511, 4.65225147, 4.65162013,\n",
       "        4.65099105, 4.65036424, 4.64973969, 4.64911739, 4.64849733,\n",
       "        4.6478795 , 4.6472639 , 4.64665052, 4.64603934, 4.64543037,\n",
       "        4.64482359, 4.644219  , 4.64361658, 4.64301633, 4.64241825,\n",
       "        4.64182232, 4.64122854, 4.64063689, 4.64004738, 4.63945999,\n",
       "        4.63887471, 4.63829155, 4.63771048, 4.63713151, 4.63655462,\n",
       "        4.63597981, 4.63540707, 4.63483639, 4.63426777, 4.6337012 ,\n",
       "        4.63313667, 4.63257417, 4.6320137 , 4.63145524, 4.6308988 ,\n",
       "        4.63034437, 4.62979192, 4.62924147, 4.62869301, 4.62814651,\n",
       "        4.62760199, 4.62705943, 4.62651882, 4.62598016, 4.62544344,\n",
       "        4.62490865, 4.62437579, 4.62384484, 4.62331581, 4.62278869,\n",
       "        4.62226346, 4.62174013, 4.62121868, 4.62069911, 4.62018141,\n",
       "        4.61966558, 4.6191516 , 4.61863948, 4.6181292 , 4.61762075,\n",
       "        4.61711414, 4.61660936, 4.61610639, 4.61560523, 4.61510588,\n",
       "        4.61460833, 4.61411257, 4.61361859, 4.6131264 , 4.61263598,\n",
       "        4.61214732, 4.61166042, 4.61117528, 4.61069189, 4.61021023,\n",
       "        4.60973032, 4.60925213, 4.60877566, 4.60830091, 4.60782786,\n",
       "        4.60735653, 4.60688689, 4.60641894, 4.60595268, 4.60548809,\n",
       "        4.60502518, 4.60456394, 4.60410436, 4.60364643, 4.60319016,\n",
       "        4.60273553, 4.60228253, 4.60183117, 4.60138143, 4.60093331,\n",
       "        4.60048681, 4.60004191, 4.59959862, 4.59915692, 4.59871682,\n",
       "        4.5982783 , 4.59784136, 4.59740599, 4.59697219, 4.59653996,\n",
       "        4.59610928, 4.59568015, 4.59525257, 4.59482652, 4.59440202,\n",
       "        4.59397904, 4.59355758, 4.59313765, 4.59271922, 4.59230231,\n",
       "        4.59188689, 4.59147297, 4.59106054, 4.5906496 , 4.59024014,\n",
       "        4.58983215, 4.58942563, 4.58902058, 4.58861698, 4.58821484,\n",
       "        4.58781415, 4.5874149 , 4.58701709, 4.58662071, 4.58622576,\n",
       "        4.58583223, 4.58544012, 4.58504942, 4.58466013, 4.58427224,\n",
       "        4.58388575, 4.58350065, 4.58311694, 4.58273461, 4.58235366,\n",
       "        4.58197408, 4.58159586, 4.58121901, 4.58084352, 4.58046938,\n",
       "        4.58009658, 4.57972513, 4.57935502, 4.57898624, 4.57861879,\n",
       "        4.57825266, 4.57788785, 4.57752435, 4.57716217, 4.57680129,\n",
       "        4.57644171, 4.57608342, 4.57572642, 4.57537071, 4.57501628,\n",
       "        4.57466313, 4.57431125, 4.57396064, 4.57361129, 4.5732632 ,\n",
       "        4.57291636, 4.57257077, 4.57222643, 4.57188333, 4.57154146,\n",
       "        4.57120082, 4.57086141, 4.57052323, 4.57018626, 4.5698505 ,\n",
       "        4.56951596, 4.56918262, 4.56885048, 4.56851954, 4.56818978,\n",
       "        4.56786122, 4.56753384, 4.56720764, 4.56688261, 4.56655876,\n",
       "        4.56623607, 4.56591454, 4.56559418, 4.56527496, 4.5649569 ,\n",
       "        4.56463998, 4.5643242 , 4.56400956, 4.56369606, 4.56338368,\n",
       "        4.56307243, 4.5627623 , 4.56245328, 4.56214538, 4.56183859,\n",
       "        4.5615329 , 4.56122832, 4.56092483, 4.56062243, 4.56032113,\n",
       "        4.5600209 , 4.55972176, 4.5594237 , 4.55912671, 4.5588308 ,\n",
       "        4.55853594, 4.55824215, 4.55794942, 4.55765774, 4.55736711,\n",
       "        4.55707753, 4.55678899, 4.5565015 , 4.55621503, 4.5559296 ,\n",
       "        4.5556452 , 4.55536182, 4.55507946, 4.55479812, 4.55451779,\n",
       "        4.55423848, 4.55396017, 4.55368286, 4.55340655, 4.55313123,\n",
       "        4.55285691, 4.55258357, 4.55231122, 4.55203985, 4.55176946,\n",
       "        4.55150004, 4.55123159, 4.55096411, 4.55069759, 4.55043204,\n",
       "        4.55016744, 4.54990379, 4.54964109, 4.54937934, 4.54911853,\n",
       "        4.54885866, 4.54859972, 4.54834172, 4.54808465, 4.54782851,\n",
       "        4.54757328, 4.54731898, 4.54706559, 4.54681311, 4.54656155,\n",
       "        4.54631089, 4.54606113, 4.54581227, 4.54556431, 4.54531725,\n",
       "        4.54507107, 4.54482578, 4.54458137, 4.54433784, 4.54409519,\n",
       "        4.54385342, 4.54361251, 4.54337247, 4.5431333 , 4.54289499,\n",
       "        4.54265754, 4.54242094, 4.54218519, 4.5419503 , 4.54171625,\n",
       "        4.54148304, 4.54125067, 4.54101914, 4.54078844, 4.54055858,\n",
       "        4.54032954, 4.54010133, 4.53987394, 4.53964737, 4.53942161,\n",
       "        4.53919667, 4.53897254, 4.53874921, 4.53852669, 4.53830497,\n",
       "        4.53808405, 4.53786393, 4.5376446 , 4.53742606, 4.5372083 ,\n",
       "        4.53699133, 4.53677514, 4.53655973, 4.5363451 , 4.53613124,\n",
       "        4.53591815, 4.53570583, 4.53549427, 4.53528347, 4.53507344,\n",
       "        4.53486416, 4.53465563, 4.53444785, 4.53424083, 4.53403455,\n",
       "        4.53382901, 4.53362421, 4.53342015, 4.53321682, 4.53301423]))"
      ]
     },
     "execution_count": 57,
     "metadata": {},
     "output_type": "execute_result"
    }
   ],
   "source": [
    "# 梯度下降算法来将我们的参数θ适合于训练集\n",
    "final_theta, cost = gradient_descent(X, y, theta, alpha, epoch)\n",
    "final_theta, cost"
   ]
  },
  {
   "cell_type": "code",
   "execution_count": 58,
   "metadata": {},
   "outputs": [
    {
     "data": {
      "text/plain": [
       "4.533014230889452"
      ]
     },
     "execution_count": 58,
     "metadata": {},
     "output_type": "execute_result"
    }
   ],
   "source": [
    "compute_cost(X, y, final_theta)"
   ]
  },
  {
   "cell_type": "code",
   "execution_count": 59,
   "metadata": {},
   "outputs": [
    {
     "data": {
      "image/png": "[encoded data removed]",
      "text/plain": [
       "<Figure size 432x288 with 1 Axes>"
      ]
     },
     "metadata": {
      "needs_background": "light"
     },
     "output_type": "display_data"
    }
   ],
   "source": [
    "# 绘制线性模型以及数据，直观地看出它的拟合\n",
    "x = np.linspace(data.Population.min(), data.Population.max(), 100) # 横坐标\n",
    "f = final_theta[0, 0] + (final_theta[0, 1] * x) # 纵坐标\n",
    "\n",
    "fig = plt.figure()\n",
    "ax = plt.axes()\n",
    "\n",
    "ax.plot(x, f, 'r', label='Prediction')\n",
    "ax.scatter(data['Population'], data['Profit'], label='Training Data')\n",
    "\n",
    "ax.legend(loc=2) # 2表示在左上角\n",
    "ax.set_xlabel('Population')\n",
    "ax.set_ylabel('Profit')\n",
    "ax.set_title('Predicted Profit vs. Population Size')\n",
    "plt.show()"
   ]
  },
  {
   "cell_type": "markdown",
   "metadata": {},
   "source": [
    "由于梯度方程式函数也在每个训练迭代中输出一个代价的向量，所以我们也可以绘制。 \n",
    "请注意，线性回归中的代价函数总是降低的 - 这是凸优化的特点"
   ]
  },
  {
   "cell_type": "code",
   "execution_count": 60,
   "metadata": {},
   "outputs": [
    {
     "data": {
      "image/png": "[encoded data removed]",
      "text/plain": [
       "<Figure size 432x288 with 1 Axes>"
      ]
     },
     "metadata": {
      "needs_background": "light"
     },
     "output_type": "display_data"
    }
   ],
   "source": [
    "fig = plt.figure()\n",
    "ax = plt.axes()\n",
    "\n",
    "ax.plot(np.arange(epoch), cost, 'r')\n",
    "\n",
    "ax.set_xlabel('Iteration')\n",
    "ax.set_ylabel('Cost')\n",
    "ax.set_title('Error vs. Training Epoch')\n",
    "plt.show()"
   ]
  },
  {
   "cell_type": "markdown",
   "metadata": {},
   "source": [
    "# 多变量线性回归"
   ]
  },
  {
   "cell_type": "code",
   "execution_count": 61,
   "metadata": {},
   "outputs": [
    {
     "data": {
      "text/html": [
       "<div>\n",
       "<style scoped>\n",
       "    .dataframe tbody tr th:only-of-type {\n",
       "        vertical-align: middle;\n",
       "    }\n",
       "\n",
       "    .dataframe tbody tr th {\n",
       "        vertical-align: top;\n",
       "    }\n",
       "\n",
       "    .dataframe thead th {\n",
       "        text-align: right;\n",
       "    }\n",
       "</style>\n",
       "<table border=\"1\" class=\"dataframe\">\n",
       "  <thead>\n",
       "    <tr style=\"text-align: right;\">\n",
       "      <th></th>\n",
       "      <th>Size</th>\n",
       "      <th>Bedrooms</th>\n",
       "      <th>Price</th>\n",
       "    </tr>\n",
       "  </thead>\n",
       "  <tbody>\n",
       "    <tr>\n",
       "      <th>0</th>\n",
       "      <td>2104</td>\n",
       "      <td>3</td>\n",
       "      <td>399900</td>\n",
       "    </tr>\n",
       "    <tr>\n",
       "      <th>1</th>\n",
       "      <td>1600</td>\n",
       "      <td>3</td>\n",
       "      <td>329900</td>\n",
       "    </tr>\n",
       "    <tr>\n",
       "      <th>2</th>\n",
       "      <td>2400</td>\n",
       "      <td>3</td>\n",
       "      <td>369000</td>\n",
       "    </tr>\n",
       "    <tr>\n",
       "      <th>3</th>\n",
       "      <td>1416</td>\n",
       "      <td>2</td>\n",
       "      <td>232000</td>\n",
       "    </tr>\n",
       "    <tr>\n",
       "      <th>4</th>\n",
       "      <td>3000</td>\n",
       "      <td>4</td>\n",
       "      <td>539900</td>\n",
       "    </tr>\n",
       "  </tbody>\n",
       "</table>\n",
       "</div>"
      ],
      "text/plain": [
       "   Size  Bedrooms   Price\n",
       "0  2104         3  399900\n",
       "1  1600         3  329900\n",
       "2  2400         3  369000\n",
       "3  1416         2  232000\n",
       "4  3000         4  539900"
      ]
     },
     "execution_count": 61,
     "metadata": {},
     "output_type": "execute_result"
    }
   ],
   "source": [
    "#练习1还包括一个房屋价格数据集，其中有2个变量（房子的大小，卧室的数量）和目标（房子的价格）\n",
    "path = './ex1/ex1data2.txt'\n",
    "data2 = pd.read_csv(path, names=['Size', 'Bedrooms', 'Price'])\n",
    "data2.head()"
   ]
  },
  {
   "cell_type": "code",
   "execution_count": 62,
   "metadata": {},
   "outputs": [
    {
     "data": {
      "text/html": [
       "<div>\n",
       "<style scoped>\n",
       "    .dataframe tbody tr th:only-of-type {\n",
       "        vertical-align: middle;\n",
       "    }\n",
       "\n",
       "    .dataframe tbody tr th {\n",
       "        vertical-align: top;\n",
       "    }\n",
       "\n",
       "    .dataframe thead th {\n",
       "        text-align: right;\n",
       "    }\n",
       "</style>\n",
       "<table border=\"1\" class=\"dataframe\">\n",
       "  <thead>\n",
       "    <tr style=\"text-align: right;\">\n",
       "      <th></th>\n",
       "      <th>Size</th>\n",
       "      <th>Bedrooms</th>\n",
       "      <th>Price</th>\n",
       "    </tr>\n",
       "  </thead>\n",
       "  <tbody>\n",
       "    <tr>\n",
       "      <th>0</th>\n",
       "      <td>0.130010</td>\n",
       "      <td>-0.223675</td>\n",
       "      <td>0.475747</td>\n",
       "    </tr>\n",
       "    <tr>\n",
       "      <th>1</th>\n",
       "      <td>-0.504190</td>\n",
       "      <td>-0.223675</td>\n",
       "      <td>-0.084074</td>\n",
       "    </tr>\n",
       "    <tr>\n",
       "      <th>2</th>\n",
       "      <td>0.502476</td>\n",
       "      <td>-0.223675</td>\n",
       "      <td>0.228626</td>\n",
       "    </tr>\n",
       "    <tr>\n",
       "      <th>3</th>\n",
       "      <td>-0.735723</td>\n",
       "      <td>-1.537767</td>\n",
       "      <td>-0.867025</td>\n",
       "    </tr>\n",
       "    <tr>\n",
       "      <th>4</th>\n",
       "      <td>1.257476</td>\n",
       "      <td>1.090417</td>\n",
       "      <td>1.595389</td>\n",
       "    </tr>\n",
       "  </tbody>\n",
       "</table>\n",
       "</div>"
      ],
      "text/plain": [
       "       Size  Bedrooms     Price\n",
       "0  0.130010 -0.223675  0.475747\n",
       "1 -0.504190 -0.223675 -0.084074\n",
       "2  0.502476 -0.223675  0.228626\n",
       "3 -0.735723 -1.537767 -0.867025\n",
       "4  1.257476  1.090417  1.595389"
      ]
     },
     "execution_count": 62,
     "metadata": {},
     "output_type": "execute_result"
    }
   ],
   "source": [
    "#pandas mean 均值\n",
    "#pandas std   标准差\n",
    "# 特征归一化\n",
    "data2 = (data2 - data2.mean()) / data2.std()\n",
    "data2.head()"
   ]
  },
  {
   "cell_type": "code",
   "execution_count": 63,
   "metadata": {},
   "outputs": [
    {
     "data": {
      "text/html": [
       "<div>\n",
       "<style scoped>\n",
       "    .dataframe tbody tr th:only-of-type {\n",
       "        vertical-align: middle;\n",
       "    }\n",
       "\n",
       "    .dataframe tbody tr th {\n",
       "        vertical-align: top;\n",
       "    }\n",
       "\n",
       "    .dataframe thead th {\n",
       "        text-align: right;\n",
       "    }\n",
       "</style>\n",
       "<table border=\"1\" class=\"dataframe\">\n",
       "  <thead>\n",
       "    <tr style=\"text-align: right;\">\n",
       "      <th></th>\n",
       "      <th>Ones</th>\n",
       "      <th>Size</th>\n",
       "      <th>Bedrooms</th>\n",
       "      <th>Price</th>\n",
       "    </tr>\n",
       "  </thead>\n",
       "  <tbody>\n",
       "    <tr>\n",
       "      <th>0</th>\n",
       "      <td>1</td>\n",
       "      <td>0.130010</td>\n",
       "      <td>-0.223675</td>\n",
       "      <td>0.475747</td>\n",
       "    </tr>\n",
       "    <tr>\n",
       "      <th>1</th>\n",
       "      <td>1</td>\n",
       "      <td>-0.504190</td>\n",
       "      <td>-0.223675</td>\n",
       "      <td>-0.084074</td>\n",
       "    </tr>\n",
       "    <tr>\n",
       "      <th>2</th>\n",
       "      <td>1</td>\n",
       "      <td>0.502476</td>\n",
       "      <td>-0.223675</td>\n",
       "      <td>0.228626</td>\n",
       "    </tr>\n",
       "    <tr>\n",
       "      <th>3</th>\n",
       "      <td>1</td>\n",
       "      <td>-0.735723</td>\n",
       "      <td>-1.537767</td>\n",
       "      <td>-0.867025</td>\n",
       "    </tr>\n",
       "    <tr>\n",
       "      <th>4</th>\n",
       "      <td>1</td>\n",
       "      <td>1.257476</td>\n",
       "      <td>1.090417</td>\n",
       "      <td>1.595389</td>\n",
       "    </tr>\n",
       "  </tbody>\n",
       "</table>\n",
       "</div>"
      ],
      "text/plain": [
       "   Ones      Size  Bedrooms     Price\n",
       "0     1  0.130010 -0.223675  0.475747\n",
       "1     1 -0.504190 -0.223675 -0.084074\n",
       "2     1  0.502476 -0.223675  0.228626\n",
       "3     1 -0.735723 -1.537767 -0.867025\n",
       "4     1  1.257476  1.090417  1.595389"
      ]
     },
     "execution_count": 63,
     "metadata": {},
     "output_type": "execute_result"
    }
   ],
   "source": [
    "# 添加偏置单元x_0\n",
    "data2.insert(0, 'Ones', 1)\n",
    "data2.head()"
   ]
  },
  {
   "cell_type": "code",
   "execution_count": 64,
   "metadata": {},
   "outputs": [],
   "source": [
    "# 获得列数\n",
    "cols = data2.shape[1]\n",
    "X2 = data2.iloc[:, 0:cols - 1]\n",
    "Y2 = data2.iloc[:, cols-1:cols]"
   ]
  },
  {
   "cell_type": "code",
   "execution_count": 65,
   "metadata": {},
   "outputs": [],
   "source": [
    "# 从pd取出数据成为矩阵\n",
    "X2 = np.matrix(X2.values)\n",
    "y2 = np.matrix(Y2.values)"
   ]
  },
  {
   "cell_type": "code",
   "execution_count": 66,
   "metadata": {},
   "outputs": [],
   "source": [
    "# theta = np.matrix(np.array([0,0,0]))\n",
    "theta = np.matrix([0,0,0])"
   ]
  },
  {
   "cell_type": "code",
   "execution_count": 67,
   "metadata": {},
   "outputs": [],
   "source": [
    "# 学习率和迭代次数\n",
    "alpha = 0.01\n",
    "epoch = 1000"
   ]
  },
  {
   "cell_type": "code",
   "execution_count": 68,
   "metadata": {},
   "outputs": [],
   "source": [
    "# 代价函数\n",
    "def compute_cost(X, y, theta):\n",
    "    inner = np.power(((X * theta.T) - y),2)\n",
    "    return np.sum(inner) / (2 * len(X))"
   ]
  },
  {
   "cell_type": "markdown",
   "metadata": {},
   "source": [
    "求偏导\n",
    "$$ \\frac{\\partial }{\\partial \\theta_j}J(\\theta) = \\frac{1}{m} \\sum_{i=1}^m (h_\\theta(x^{(i)}) - y^{(i)})x_j{(i)} $$"
   ]
  },
  {
   "cell_type": "markdown",
   "metadata": {},
   "source": [
    "梯度下降\n",
    "$$ \\theta_j = \\theta_j - \\alpha \\frac{\\partial }{\\partial \\theta_j}J(\\theta) $$\n",
    "\n",
    "$$ \\theta_j = \\theta_j - \\alpha \\frac{1}{m} \\sum_{i=1}^m (h_\\theta(x^{(i)}) - y^{(i)})x_j{(i)} $$"
   ]
  },
  {
   "cell_type": "code",
   "execution_count": 69,
   "metadata": {},
   "outputs": [
    {
     "data": {
      "text/plain": [
       "((47, 3), (47, 1), (1, 3))"
      ]
     },
     "execution_count": 69,
     "metadata": {},
     "output_type": "execute_result"
    }
   ],
   "source": [
    "X2.shape, y2.shape, theta.shape"
   ]
  },
  {
   "cell_type": "code",
   "execution_count": 70,
   "metadata": {},
   "outputs": [],
   "source": [
    "def gradient_descent(X, y, theta, alpha, epoch):\n",
    "    \"\"\"return theta cost\"\"\"\n",
    "\n",
    "    temp = np.zeros(theta.shape) # 临时矩阵[1,2]\n",
    "    cost = np.zeros(epoch) # 每一轮epoch的cost\n",
    "    m = X.shape[0] # 样本数量\n",
    "\n",
    "    for i in range(epoch):\n",
    "        # 利用向量化一步求解\n",
    "        temp = theta - (alpha / m) * (X * theta.T - y).T * X\n",
    "\n",
    "        theta = temp\n",
    "        cost[i] = compute_cost(X, y, theta)\n",
    "\n",
    "    return theta, cost"
   ]
  },
  {
   "cell_type": "code",
   "execution_count": 71,
   "metadata": {},
   "outputs": [
    {
     "data": {
      "text/plain": [
       "(matrix([[-1.10995657e-16,  8.78503652e-01, -4.69166570e-02]]),\n",
       " array([0.4805491 , 0.47198588, 0.46366462, 0.45557814, 0.44771948,\n",
       "        0.44008189, 0.43265881, 0.42544389, 0.41843096, 0.41161404,\n",
       "        0.40498735, 0.39854524, 0.39228228, 0.38619317, 0.38027278,\n",
       "        0.37451612, 0.36891839, 0.36347488, 0.35818107, 0.35303254,\n",
       "        0.34802503, 0.34315438, 0.33841659, 0.33380775, 0.32932407,\n",
       "        0.3249619 , 0.32071767, 0.31658793, 0.31256934, 0.30865863,\n",
       "        0.30485268, 0.30114841, 0.29754287, 0.29403318, 0.29061655,\n",
       "        0.28729027, 0.28405173, 0.28089837, 0.27782772, 0.27483739,\n",
       "        0.27192505, 0.26908845, 0.26632541, 0.26363379, 0.26101154,\n",
       "        0.25845666, 0.25596722, 0.25354134, 0.25117719, 0.248873  ,\n",
       "        0.24662705, 0.24443769, 0.24230329, 0.24022228, 0.23819315,\n",
       "        0.23621442, 0.23428466, 0.23240248, 0.23056652, 0.22877549,\n",
       "        0.22702811, 0.22532316, 0.22365943, 0.22203576, 0.22045104,\n",
       "        0.21890417, 0.21739409, 0.21591977, 0.21448021, 0.21307445,\n",
       "        0.21170155, 0.2103606 , 0.2090507 , 0.207771  , 0.20652067,\n",
       "        0.2052989 , 0.2041049 , 0.20293791, 0.2017972 , 0.20068203,\n",
       "        0.19959172, 0.1985256 , 0.19748299, 0.19646328, 0.19546583,\n",
       "        0.19449004, 0.19353534, 0.19260116, 0.19168695, 0.19079217,\n",
       "        0.18991631, 0.18905886, 0.18821934, 0.18739727, 0.1865922 ,\n",
       "        0.18580367, 0.18503125, 0.18427452, 0.18353307, 0.18280651,\n",
       "        0.18209444, 0.18139649, 0.18071231, 0.18004153, 0.17938381,\n",
       "        0.17873883, 0.17810624, 0.17748575, 0.17687705, 0.17627983,\n",
       "        0.17569381, 0.17511871, 0.17455426, 0.17400019, 0.17345625,\n",
       "        0.17292219, 0.17239776, 0.17188273, 0.17137687, 0.17087996,\n",
       "        0.17039178, 0.16991212, 0.16944077, 0.16897754, 0.16852224,\n",
       "        0.16807468, 0.16763467, 0.16720204, 0.16677661, 0.16635822,\n",
       "        0.1659467 , 0.16554191, 0.16514367, 0.16475185, 0.16436629,\n",
       "        0.16398686, 0.16361341, 0.16324582, 0.16288395, 0.16252768,\n",
       "        0.16217688, 0.16183143, 0.16149121, 0.16115612, 0.16082604,\n",
       "        0.16050087, 0.16018049, 0.15986481, 0.15955372, 0.15924714,\n",
       "        0.15894497, 0.15864711, 0.15835347, 0.15806398, 0.15777854,\n",
       "        0.15749707, 0.15721949, 0.15694573, 0.15667571, 0.15640935,\n",
       "        0.15614659, 0.15588734, 0.15563155, 0.15537914, 0.15513006,\n",
       "        0.15488423, 0.1546416 , 0.1544021 , 0.15416568, 0.15393228,\n",
       "        0.15370185, 0.15347432, 0.15324965, 0.15302778, 0.15280867,\n",
       "        0.15259226, 0.1523785 , 0.15216736, 0.15195878, 0.15175272,\n",
       "        0.15154913, 0.15134798, 0.15114921, 0.1509528 , 0.1507587 ,\n",
       "        0.15056686, 0.15037727, 0.15018987, 0.15000463, 0.14982151,\n",
       "        0.14964049, 0.14946153, 0.14928459, 0.14910964, 0.14893665,\n",
       "        0.1487656 , 0.14859644, 0.14842916, 0.14826372, 0.14810009,\n",
       "        0.14793825, 0.14777817, 0.14761982, 0.14746318, 0.14730823,\n",
       "        0.14715493, 0.14700326, 0.14685321, 0.14670474, 0.14655784,\n",
       "        0.14641247, 0.14626863, 0.14612629, 0.14598543, 0.14584603,\n",
       "        0.14570806, 0.14557151, 0.14543636, 0.14530259, 0.14517018,\n",
       "        0.14503912, 0.14490938, 0.14478095, 0.14465381, 0.14452795,\n",
       "        0.14440334, 0.14427998, 0.14415784, 0.14403691, 0.14391718,\n",
       "        0.14379863, 0.14368124, 0.14356501, 0.14344991, 0.14333593,\n",
       "        0.14322307, 0.1431113 , 0.14300061, 0.14289099, 0.14278243,\n",
       "        0.14267491, 0.14256842, 0.14246295, 0.1423585 , 0.14225503,\n",
       "        0.14215255, 0.14205105, 0.14195051, 0.14185091, 0.14175226,\n",
       "        0.14165454, 0.14155774, 0.14146184, 0.14136685, 0.14127274,\n",
       "        0.14117951, 0.14108715, 0.14099565, 0.140905  , 0.1408152 ,\n",
       "        0.14072622, 0.14063807, 0.14055073, 0.14046419, 0.14037846,\n",
       "        0.14029351, 0.14020934, 0.14012594, 0.14004331, 0.13996143,\n",
       "        0.1398803 , 0.13979992, 0.13972026, 0.13964133, 0.13956311,\n",
       "        0.13948561, 0.13940881, 0.1393327 , 0.13925728, 0.13918255,\n",
       "        0.13910849, 0.13903509, 0.13896236, 0.13889029, 0.13881886,\n",
       "        0.13874807, 0.13867792, 0.1386084 , 0.1385395 , 0.13847121,\n",
       "        0.13840354, 0.13833648, 0.13827001, 0.13820413, 0.13813884,\n",
       "        0.13807414, 0.13801001, 0.13794645, 0.13788345, 0.13782102,\n",
       "        0.13775913, 0.1376978 , 0.13763701, 0.13757676, 0.13751705,\n",
       "        0.13745786, 0.13739919, 0.13734104, 0.13728341, 0.13722629,\n",
       "        0.13716966, 0.13711354, 0.13705791, 0.13700278, 0.13694812,\n",
       "        0.13689395, 0.13684026, 0.13678703, 0.13673428, 0.13668199,\n",
       "        0.13663015, 0.13657877, 0.13652784, 0.13647736, 0.13642732,\n",
       "        0.13637772, 0.13632855, 0.13627982, 0.1362315 , 0.13618362,\n",
       "        0.13613615, 0.13608909, 0.13604245, 0.13599621, 0.13595038,\n",
       "        0.13590494, 0.1358599 , 0.13581526, 0.13577101, 0.13572714,\n",
       "        0.13568365, 0.13564054, 0.13559781, 0.13555544, 0.13551345,\n",
       "        0.13547182, 0.13543056, 0.13538965, 0.1353491 , 0.1353089 ,\n",
       "        0.13526905, 0.13522955, 0.13519039, 0.13515157, 0.13511308,\n",
       "        0.13507493, 0.13503712, 0.13499963, 0.13496246, 0.13492562,\n",
       "        0.13488909, 0.13485289, 0.134817  , 0.13478141, 0.13474614,\n",
       "        0.13471117, 0.13467651, 0.13464214, 0.13460807, 0.1345743 ,\n",
       "        0.13454082, 0.13450763, 0.13447473, 0.13444211, 0.13440977,\n",
       "        0.13437771, 0.13434593, 0.13431443, 0.1342832 , 0.13425223,\n",
       "        0.13422154, 0.13419111, 0.13416094, 0.13413104, 0.13410139,\n",
       "        0.134072  , 0.13404286, 0.13401397, 0.13398534, 0.13395695,\n",
       "        0.1339288 , 0.1339009 , 0.13387324, 0.13384582, 0.13381863,\n",
       "        0.13379168, 0.13376496, 0.13373848, 0.13371222, 0.13368619,\n",
       "        0.13366038, 0.13363479, 0.13360943, 0.13358428, 0.13355935,\n",
       "        0.13353464, 0.13351014, 0.13348585, 0.13346177, 0.13343789,\n",
       "        0.13341423, 0.13339076, 0.1333675 , 0.13334444, 0.13332158,\n",
       "        0.13329892, 0.13327645, 0.13325417, 0.13323209, 0.13321019,\n",
       "        0.13318849, 0.13316697, 0.13314564, 0.13312449, 0.13310352,\n",
       "        0.13308274, 0.13306213, 0.1330417 , 0.13302145, 0.13300137,\n",
       "        0.13298146, 0.13296173, 0.13294216, 0.13292276, 0.13290353,\n",
       "        0.13288447, 0.13286557, 0.13284683, 0.13282826, 0.13280984,\n",
       "        0.13279158, 0.13277348, 0.13275554, 0.13273775, 0.13272011,\n",
       "        0.13270263, 0.13268529, 0.13266811, 0.13265107, 0.13263418,\n",
       "        0.13261743, 0.13260083, 0.13258437, 0.13256805, 0.13255188,\n",
       "        0.13253584, 0.13251994, 0.13250418, 0.13248855, 0.13247306,\n",
       "        0.1324577 , 0.13244247, 0.13242737, 0.13241241, 0.13239757,\n",
       "        0.13238286, 0.13236828, 0.13235382, 0.13233948, 0.13232527,\n",
       "        0.13231119, 0.13229722, 0.13228337, 0.13226964, 0.13225603,\n",
       "        0.13224254, 0.13222917, 0.1322159 , 0.13220276, 0.13218972,\n",
       "        0.1321768 , 0.13216399, 0.13215129, 0.1321387 , 0.13212621,\n",
       "        0.13211384, 0.13210157, 0.1320894 , 0.13207734, 0.13206539,\n",
       "        0.13205353, 0.13204178, 0.13203013, 0.13201858, 0.13200713,\n",
       "        0.13199578, 0.13198452, 0.13197337, 0.1319623 , 0.13195134,\n",
       "        0.13194047, 0.13192969, 0.131919  , 0.13190841, 0.1318979 ,\n",
       "        0.13188749, 0.13187717, 0.13186693, 0.13185678, 0.13184672,\n",
       "        0.13183675, 0.13182686, 0.13181706, 0.13180734, 0.13179771,\n",
       "        0.13178816, 0.13177869, 0.1317693 , 0.13175999, 0.13175077,\n",
       "        0.13174162, 0.13173255, 0.13172356, 0.13171464, 0.13170581,\n",
       "        0.13169704, 0.13168836, 0.13167975, 0.13167121, 0.13166274,\n",
       "        0.13165435, 0.13164603, 0.13163779, 0.13162961, 0.1316215 ,\n",
       "        0.13161347, 0.1316055 , 0.1315976 , 0.13158977, 0.131582  ,\n",
       "        0.13157431, 0.13156668, 0.13155911, 0.13155161, 0.13154417,\n",
       "        0.1315368 , 0.13152949, 0.13152225, 0.13151506, 0.13150794,\n",
       "        0.13150088, 0.13149388, 0.13148694, 0.13148006, 0.13147324,\n",
       "        0.13146648, 0.13145977, 0.13145313, 0.13144654, 0.13144001,\n",
       "        0.13143353, 0.13142711, 0.13142074, 0.13141443, 0.13140817,\n",
       "        0.13140197, 0.13139582, 0.13138972, 0.13138368, 0.13137769,\n",
       "        0.13137175, 0.13136586, 0.13136002, 0.13135423, 0.13134849,\n",
       "        0.1313428 , 0.13133716, 0.13133157, 0.13132602, 0.13132052,\n",
       "        0.13131507, 0.13130967, 0.13130432, 0.13129901, 0.13129374,\n",
       "        0.13128852, 0.13128335, 0.13127822, 0.13127313, 0.13126809,\n",
       "        0.13126309, 0.13125813, 0.13125322, 0.13124835, 0.13124352,\n",
       "        0.13123873, 0.13123399, 0.13122928, 0.13122461, 0.13121999,\n",
       "        0.1312154 , 0.13121086, 0.13120635, 0.13120188, 0.13119745,\n",
       "        0.13119306, 0.13118871, 0.13118439, 0.13118011, 0.13117587,\n",
       "        0.13117166, 0.13116749, 0.13116336, 0.13115926, 0.13115519,\n",
       "        0.13115117, 0.13114717, 0.13114321, 0.13113929, 0.1311354 ,\n",
       "        0.13113154, 0.13112771, 0.13112392, 0.13112016, 0.13111643,\n",
       "        0.13111274, 0.13110907, 0.13110544, 0.13110184, 0.13109827,\n",
       "        0.13109473, 0.13109122, 0.13108774, 0.13108429, 0.13108088,\n",
       "        0.13107749, 0.13107412, 0.13107079, 0.13106749, 0.13106422,\n",
       "        0.13106097, 0.13105775, 0.13105456, 0.1310514 , 0.13104826,\n",
       "        0.13104515, 0.13104207, 0.13103901, 0.13103598, 0.13103298,\n",
       "        0.13103   , 0.13102705, 0.13102412, 0.13102122, 0.13101834,\n",
       "        0.13101549, 0.13101266, 0.13100986, 0.13100708, 0.13100432,\n",
       "        0.13100159, 0.13099888, 0.1309962 , 0.13099353, 0.1309909 ,\n",
       "        0.13098828, 0.13098568, 0.13098311, 0.13098056, 0.13097804,\n",
       "        0.13097553, 0.13097305, 0.13097058, 0.13096814, 0.13096572,\n",
       "        0.13096332, 0.13096094, 0.13095858, 0.13095624, 0.13095392,\n",
       "        0.13095163, 0.13094935, 0.13094709, 0.13094485, 0.13094263,\n",
       "        0.13094043, 0.13093824, 0.13093608, 0.13093393, 0.13093181,\n",
       "        0.1309297 , 0.13092761, 0.13092554, 0.13092348, 0.13092144,\n",
       "        0.13091942, 0.13091742, 0.13091544, 0.13091347, 0.13091152,\n",
       "        0.13090958, 0.13090767, 0.13090577, 0.13090388, 0.13090201,\n",
       "        0.13090016, 0.13089832, 0.1308965 , 0.1308947 , 0.13089291,\n",
       "        0.13089113, 0.13088937, 0.13088763, 0.1308859 , 0.13088419,\n",
       "        0.13088249, 0.1308808 , 0.13087913, 0.13087748, 0.13087584,\n",
       "        0.13087421, 0.1308726 , 0.130871  , 0.13086941, 0.13086784,\n",
       "        0.13086628, 0.13086473, 0.1308632 , 0.13086168, 0.13086018,\n",
       "        0.13085868, 0.1308572 , 0.13085574, 0.13085428, 0.13085284,\n",
       "        0.13085141, 0.13084999, 0.13084859, 0.13084719, 0.13084581,\n",
       "        0.13084444, 0.13084309, 0.13084174, 0.1308404 , 0.13083908,\n",
       "        0.13083777, 0.13083647, 0.13083518, 0.1308339 , 0.13083264,\n",
       "        0.13083138, 0.13083013, 0.1308289 , 0.13082768, 0.13082646,\n",
       "        0.13082526, 0.13082407, 0.13082288, 0.13082171, 0.13082055,\n",
       "        0.1308194 , 0.13081825, 0.13081712, 0.130816  , 0.13081489,\n",
       "        0.13081378, 0.13081269, 0.1308116 , 0.13081053, 0.13080946,\n",
       "        0.1308084 , 0.13080736, 0.13080632, 0.13080529, 0.13080427,\n",
       "        0.13080325, 0.13080225, 0.13080126, 0.13080027, 0.13079929,\n",
       "        0.13079832, 0.13079736, 0.13079641, 0.13079546, 0.13079453,\n",
       "        0.1307936 , 0.13079268, 0.13079176, 0.13079086, 0.13078996,\n",
       "        0.13078907, 0.13078819, 0.13078732, 0.13078645, 0.13078559,\n",
       "        0.13078474, 0.13078389, 0.13078306, 0.13078223, 0.1307814 ,\n",
       "        0.13078059, 0.13077978, 0.13077898, 0.13077818, 0.13077739,\n",
       "        0.13077661, 0.13077584, 0.13077507, 0.13077431, 0.13077355,\n",
       "        0.13077281, 0.13077206, 0.13077133, 0.1307706 , 0.13076988,\n",
       "        0.13076916, 0.13076845, 0.13076774, 0.13076705, 0.13076635,\n",
       "        0.13076567, 0.13076499, 0.13076431, 0.13076364, 0.13076298,\n",
       "        0.13076232, 0.13076167, 0.13076102, 0.13076038, 0.13075975,\n",
       "        0.13075912, 0.13075849, 0.13075787, 0.13075726, 0.13075665,\n",
       "        0.13075605, 0.13075545, 0.13075486, 0.13075427, 0.13075369,\n",
       "        0.13075311, 0.13075254, 0.13075197, 0.13075141, 0.13075085,\n",
       "        0.1307503 , 0.13074975, 0.1307492 , 0.13074866, 0.13074813,\n",
       "        0.1307476 , 0.13074708, 0.13074655, 0.13074604, 0.13074553,\n",
       "        0.13074502, 0.13074452, 0.13074402, 0.13074352, 0.13074303,\n",
       "        0.13074255, 0.13074206, 0.13074159, 0.13074111, 0.13074064,\n",
       "        0.13074018, 0.13073972, 0.13073926, 0.1307388 , 0.13073836,\n",
       "        0.13073791, 0.13073747, 0.13073703, 0.13073659, 0.13073616,\n",
       "        0.13073574, 0.13073531, 0.13073489, 0.13073448, 0.13073407,\n",
       "        0.13073366, 0.13073325, 0.13073285, 0.13073245, 0.13073206,\n",
       "        0.13073166, 0.13073127, 0.13073089, 0.13073051, 0.13073013,\n",
       "        0.13072975, 0.13072938, 0.13072901, 0.13072865, 0.13072829,\n",
       "        0.13072793, 0.13072757, 0.13072722, 0.13072687, 0.13072652,\n",
       "        0.13072618, 0.13072583, 0.1307255 , 0.13072516, 0.13072483,\n",
       "        0.1307245 , 0.13072417, 0.13072385, 0.13072353, 0.13072321,\n",
       "        0.13072289, 0.13072258, 0.13072227, 0.13072196, 0.13072166,\n",
       "        0.13072136, 0.13072106, 0.13072076, 0.13072046, 0.13072017,\n",
       "        0.13071988, 0.13071959, 0.13071931, 0.13071903, 0.13071875,\n",
       "        0.13071847, 0.1307182 , 0.13071792, 0.13071765, 0.13071739,\n",
       "        0.13071712, 0.13071686, 0.1307166 , 0.13071634, 0.13071608,\n",
       "        0.13071583, 0.13071557, 0.13071532, 0.13071508, 0.13071483,\n",
       "        0.13071459, 0.13071434, 0.1307141 , 0.13071387, 0.13071363,\n",
       "        0.1307134 , 0.13071317, 0.13071294, 0.13071271, 0.13071248,\n",
       "        0.13071226, 0.13071204, 0.13071182, 0.1307116 , 0.13071139,\n",
       "        0.13071117, 0.13071096, 0.13071075, 0.13071054, 0.13071033,\n",
       "        0.13071013, 0.13070993, 0.13070972, 0.13070952, 0.13070933,\n",
       "        0.13070913, 0.13070894, 0.13070874, 0.13070855, 0.13070836,\n",
       "        0.13070817, 0.13070799, 0.1307078 , 0.13070762, 0.13070744,\n",
       "        0.13070726, 0.13070708, 0.1307069 , 0.13070673, 0.13070655,\n",
       "        0.13070638, 0.13070621, 0.13070604, 0.13070587, 0.1307057 ,\n",
       "        0.13070554, 0.13070538, 0.13070521, 0.13070505, 0.13070489,\n",
       "        0.13070473, 0.13070458, 0.13070442, 0.13070427, 0.13070411,\n",
       "        0.13070396, 0.13070381, 0.13070366, 0.13070352, 0.13070337]))"
      ]
     },
     "execution_count": 71,
     "metadata": {},
     "output_type": "execute_result"
    }
   ],
   "source": [
    "final_theta, cost2 = gradient_descent(X2, y2, theta, alpha, epoch)\n",
    "final_theta, cost2"
   ]
  },
  {
   "cell_type": "code",
   "execution_count": 72,
   "metadata": {},
   "outputs": [
    {
     "data": {
      "text/plain": [
       "0.13070336960771892"
      ]
     },
     "execution_count": 72,
     "metadata": {},
     "output_type": "execute_result"
    }
   ],
   "source": [
    "# 计算梯度下降后给定theta的代价函数\n",
    "compute_cost(X2, y2, final_theta)"
   ]
  },
  {
   "cell_type": "code",
   "execution_count": 73,
   "metadata": {},
   "outputs": [
    {
     "data": {
      "image/png": "[encoded data removed]",
      "text/plain": [
       "<Figure size 432x288 with 1 Axes>"
      ]
     },
     "metadata": {
      "needs_background": "light"
     },
     "output_type": "display_data"
    }
   ],
   "source": [
    "# 可视化 cost\n",
    "fig = plt.figure()\n",
    "ax = plt.axes()\n",
    "ax.plot(np.arange(epoch), cost2, 'r')\n",
    "ax.set_xlabel('Iteration')\n",
    "ax.set_ylabel('Cost')\n",
    "ax.set_title('Error vs. Training Epoch')\n",
    "plt.show()"
   ]
  },
  {
   "cell_type": "code",
   "execution_count": 74,
   "metadata": {},
   "outputs": [
    {
     "data": {
      "text/plain": [
       "LinearRegression(copy_X=True, fit_intercept=True, n_jobs=None,\n",
       "         normalize=False)"
      ]
     },
     "execution_count": 74,
     "metadata": {},
     "output_type": "execute_result"
    }
   ],
   "source": [
    "#使用scikit-learn的线性回归函数  以单变量为例\n",
    "from sklearn import linear_model\n",
    "model = linear_model.LinearRegression()\n",
    "model.fit(X, y)"
   ]
  },
  {
   "cell_type": "code",
   "execution_count": 75,
   "metadata": {},
   "outputs": [],
   "source": [
    "#scikit-learn model的预测表现"
   ]
  },
  {
   "cell_type": "code",
   "execution_count": 76,
   "metadata": {},
   "outputs": [
    {
     "data": {
      "text/plain": [
       "array([ 3.39377399,  2.6989512 ,  6.26719552,  4.45927234,  3.09515767,\n",
       "        6.10530086,  5.02381586,  6.33818102,  3.84247394,  2.13452698,\n",
       "        2.91727635, 13.00234766,  2.94507404,  6.13572322,  2.833764  ,\n",
       "        2.52202431,  3.69835548,  2.22460102,  3.77494824,  4.53992141,\n",
       "        3.48802365, 20.28701109,  2.65409313,  3.65146926,  2.74333205,\n",
       "       18.70624151, 11.40845471,  9.17628876, 11.82363042, 22.59314512,\n",
       "        2.37050903,  3.96559502,  7.13763287,  3.13333475,  5.90033768,\n",
       "        5.56903223,  5.7629002 ,  2.79272364, 11.41799898,  3.68403908,\n",
       "        2.55483273,  4.31527318, 10.07225703,  2.99243747,  5.43934948,\n",
       "        4.56652606,  2.1531383 ,  3.02548451, 10.06271276,  2.71553436,\n",
       "        5.09993141,  2.43648379,  4.96118159,  5.17497322,  3.65946258,\n",
       "        3.69060076,  3.58955081,  2.83257096,  7.21160096,  7.38268198,\n",
       "        6.63321825,  2.28329828, 21.49078204, 13.88996469, 18.72294398,\n",
       "        4.71577457,  6.0005525 ,  8.3161115 ,  2.66518834, 20.37171648,\n",
       "        8.19680814,  4.85452438,  3.2698178 ,  4.72496093,  2.10147995,\n",
       "        3.91608412,  5.09802255,  2.11293307,  8.36144678,  2.19787707,\n",
       "        2.93934748,  2.29415488,  3.68678305,  7.75860688,  3.87790704,\n",
       "        6.26552528,  7.05650658,  3.26480705,  2.69024205,  2.14025354,\n",
       "        2.91369725,  5.21493985,  3.10816174,  2.43373982,  5.99852435,\n",
       "       12.08371175,  2.59062374])"
      ]
     },
     "execution_count": 76,
     "metadata": {},
     "output_type": "execute_result"
    }
   ],
   "source": [
    "x = np.array(X[:, 1].A1) # 取出所有特征x_1的值\n",
    "y = model.predict(X).flatten()\n",
    "y"
   ]
  },
  {
   "cell_type": "code",
   "execution_count": 77,
   "metadata": {},
   "outputs": [
    {
     "data": {
      "image/png": "[encoded data removed]",
      "text/plain": [
       "<Figure size 432x288 with 1 Axes>"
      ]
     },
     "metadata": {
      "needs_background": "light"
     },
     "output_type": "display_data"
    }
   ],
   "source": [
    "figure = plt.figure()\n",
    "ax = plt.axes()\n",
    "\n",
    "ax.plot(x ,y ,'r', label='Prediction')\n",
    "ax.scatter(data.Population, data.Profit, label='Training Data')\n",
    "ax.set_xlabel('Poulation')\n",
    "ax.set_ylabel('Profit')\n",
    "ax.set_title('Prediction vs. Population Size')\n",
    "plt.legend(loc=2)\n",
    "plt.show()"
   ]
  },
  {
   "cell_type": "markdown",
   "metadata": {},
   "source": [
    "# normal equation（正规方程）"
   ]
  },
  {
   "cell_type": "markdown",
   "metadata": {},
   "source": [
    "正规方程是通过求解下面的方程来找出使得代价函数最小的参数的\n",
    "$$ \\frac {\\partial }{\\partial \\theta_j}J(\\theta) $$"
   ]
  },
  {
   "cell_type": "markdown",
   "metadata": {},
   "source": [
    "假设我们的训练集特征矩阵为X, 并且我们的训练集结果为向量 y，则利用正规方程解出向量:\n",
    "$$ \\theta = (X^TX)^{-1}X^Ty $$"
   ]
  },
  {
   "cell_type": "markdown",
   "metadata": {},
   "source": [
    "上标T代表矩阵转置,上标-1 代表矩阵的逆,设矩阵A = X^T * X  (X^T*X)^-1 = A^-1"
   ]
  },
  {
   "cell_type": "markdown",
   "metadata": {},
   "source": [
    "#### 梯度下降和正规方程比较：  \n",
    "梯度下降：缺点（需要学习率，需要大量迭代）优点，在特征数量较大时，也能有不错的表现，适合各类模型  \n",
    "正规方程：优点（不需要学习率，不需要迭代，一次求解就能求到\\theta） 缺点（大量特征时，矩阵逆的计算时间复杂度是O(n^3),通常来说n小于10000\n",
    "是可以接受的，只用于线性模型，不适合逻辑回归等其他模型）"
   ]
  },
  {
   "cell_type": "markdown",
   "metadata": {},
   "source": [
    "np.linalg 模块下常用的有连个函数   \n",
    "1. np.linalg.inv()：矩阵求逆   \n",
    "2. np.linalg.det()：矩阵求行列式（标量）    \n",
    "\n",
    "numpy的矩阵相乘中看到@的矩阵乘法"
   ]
  },
  {
   "cell_type": "code",
   "execution_count": 78,
   "metadata": {},
   "outputs": [],
   "source": [
    "# 正规方程\n",
    "def normal_equation(X, y):\n",
    "    theta = np.linalg.inv(X.T@X)@X.T@y  # X.T@X 相当于X.T.dot(X)\n",
    "    return theta"
   ]
  },
  {
   "cell_type": "code",
   "execution_count": 79,
   "metadata": {},
   "outputs": [
    {
     "data": {
      "text/plain": [
       "matrix([[-3.89578088,  1.19303364]])"
      ]
     },
     "execution_count": 79,
     "metadata": {},
     "output_type": "execute_result"
    }
   ],
   "source": [
    "ne_theta = normal_equation(X, y)\n",
    "ne_theta"
   ]
  },
  {
   "cell_type": "code",
   "execution_count": 80,
   "metadata": {},
   "outputs": [],
   "source": [
    "# 梯度下降的 matrix([[-3.11118613,  1.11421259]]),"
   ]
  }
 ],
 "metadata": {
  "kernelspec": {
   "display_name": "Python 3",
   "language": "python",
   "name": "python3"
  },
  "language_info": {
   "codemirror_mode": {
    "name": "ipython",
    "version": 3
   },
   "file_extension": ".py",
   "mimetype": "text/x-python",
   "name": "python",
   "nbconvert_exporter": "python",
   "pygments_lexer": "ipython3",
   "version": "3.7.3"
  }
 },
 "nbformat": 4,
 "nbformat_minor": 2
}
